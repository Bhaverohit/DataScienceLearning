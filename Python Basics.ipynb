{
  "nbformat": 4,
  "nbformat_minor": 0,
  "metadata": {
    "colab": {
      "provenance": [],
      "toc_visible": true,
      "authorship_tag": "ABX9TyOg9bOArvcfifVZlzRM6Lai",
      "include_colab_link": true
    },
    "kernelspec": {
      "name": "python3",
      "display_name": "Python 3"
    },
    "language_info": {
      "name": "python"
    }
  },
  "cells": [
    {
      "cell_type": "markdown",
      "metadata": {
        "id": "view-in-github",
        "colab_type": "text"
      },
      "source": [
        "<a href=\"https://colab.research.google.com/github/Bhaverohit/DataScienceLearning/blob/master/Python%20Basics.ipynb\" target=\"_parent\"><img src=\"https://colab.research.google.com/assets/colab-badge.svg\" alt=\"Open In Colab\"/></a>"
      ]
    },
    {
      "cell_type": "code",
      "execution_count": 40,
      "metadata": {
        "colab": {
          "base_uri": "https://localhost:8080/"
        },
        "id": "ZqDvi8wWsK9j",
        "outputId": "e722ed5b-436d-40c8-f1ca-26ca54c3a8b2"
      },
      "outputs": [
        {
          "output_type": "stream",
          "name": "stdout",
          "text": [
            "R\n",
            "Rohi -> 0:4\n",
            "Rohit -> 0:5\n",
            "Rohit -> 0:10\n",
            "Rohit -> 0:5:1\n",
            "Rht -> 0:5:2\n",
            "Ri -> 0:5:3\n",
            "Rohit -> 0::1\n",
            "Rohit -> ::\n",
            "Rht -> ::2\n",
            "Ro -> :2:\n",
            "Rohit -> :10\n",
            "Rohit -> :10:\n",
            "t -> -1\n",
            "i -> -2\n",
            "h -> -3\n",
            "o -> -4\n",
            "R -> -5\n",
            " -> -1:-2\n",
            "Roh -> -5:-2\n",
            "tihoR -> ::-1\n",
            "thR -> ::-2\n",
            "tihoR -> :-90000:-1\n"
          ]
        }
      ],
      "source": [
        "str = \"Rohit\"\n",
        "\n",
        "# print(str[10]) # Error because outOfIndex\n",
        "\n",
        "print(str[0])\n",
        "print(str[0:4], \"-> 0:4\")\n",
        "print(str[0:5], \"-> 0:5\")\n",
        "print(str[0:10], \"-> 0:10\")\n",
        "print(str[0:5:1], \"-> 0:5:1\")\n",
        "print(str[0:5:2], \"-> 0:5:2\")\n",
        "print(str[0:5:3], \"-> 0:5:3\")\n",
        "\n",
        "#print(str[0:5:0], \"-> 0:5:1\") # Error because we need to jump atleast 1, by default it's 1\n",
        "\n",
        "print(str[0::1], \"-> 0::1\")\n",
        "print(str[::], \"-> ::\")\n",
        "print(str[::2], \"-> ::2\")\n",
        "print(str[:2:], \"-> :2:\")\n",
        "print(str[:10], \"-> :10\") # In ending index if index goes outOfBound still no error\n",
        "print(str[:10:], \"-> :10:\")\n",
        "print(str[-1], \"-> -1\")\n",
        "print(str[-2], \"-> -2\")\n",
        "print(str[-3], \"-> -3\")\n",
        "print(str[-4], \"-> -4\")\n",
        "print(str[-5], \"-> -5\")\n",
        "print(str[-1:-2], \"-> -1:-2\") # Returning '' becausing -ve indexing is going but jump is +ve .ie [-1:-2: 1]\n",
        "                              #  R  o  h   i   t\n",
        "                              #  1  2  3   4   5\n",
        "                              # -5 -4 -3  -2  -1\n",
        "print(str[-5: -2], \"-> -5:-2\")\n",
        "print(str[::-1], \"-> ::-1\")\n",
        "print(str[::-2], \"-> ::-2\")\n",
        "print(str[:-90000:-1], \"-> :-90000:-1\")"
      ]
    },
    {
      "cell_type": "code",
      "source": [],
      "metadata": {
        "id": "8hiMuvTksh2x"
      },
      "execution_count": null,
      "outputs": []
    }
  ]
}