{
  "nbformat": 4,
  "nbformat_minor": 0,
  "metadata": {
    "colab": {
      "provenance": [],
      "authorship_tag": "ABX9TyNSnW+0Gdv1g7pg5d2ZrDEp",
      "include_colab_link": true
    },
    "kernelspec": {
      "name": "python3",
      "display_name": "Python 3"
    },
    "language_info": {
      "name": "python"
    }
  },
  "cells": [
    {
      "cell_type": "markdown",
      "metadata": {
        "id": "view-in-github",
        "colab_type": "text"
      },
      "source": [
        "<a href=\"https://colab.research.google.com/github/Bhaverohit/DataScienceLearning/blob/master/Python%20Basics.ipynb\" target=\"_parent\"><img src=\"https://colab.research.google.com/assets/colab-badge.svg\" alt=\"Open In Colab\"/></a>"
      ]
    },
    {
      "cell_type": "code",
      "execution_count": 1,
      "metadata": {
        "colab": {
          "base_uri": "https://localhost:8080/"
        },
        "id": "ZqDvi8wWsK9j",
        "outputId": "3aaab418-c02c-4bcf-f483-ce543eeea189"
      },
      "outputs": [
        {
          "output_type": "stream",
          "name": "stdout",
          "text": [
            "R\n",
            "Rohi -> 0:4\n",
            "Rohit -> 0:5\n",
            "Rohit -> 0:10\n",
            "Rohit -> 0:5:1\n",
            "Rht -> 0:5:2\n",
            "Ri -> 0:5:3\n",
            "Rohit -> 0::1\n",
            "Rohit -> ::\n",
            "Rht -> ::2\n",
            "Ro -> :2:\n",
            "Rohit -> :10\n",
            "Rohit -> :10:\n",
            "t -> -1\n",
            "i -> -2\n",
            "h -> -3\n",
            "o -> -4\n",
            "R -> -5\n",
            " -> -1:-2\n",
            "Roh -> -5:-2\n",
            "tihoR -> ::-1\n",
            "thR -> ::-2\n",
            "tihoR -> :-90000:-1\n"
          ]
        }
      ],
      "source": [
        "string = \"Rohit\"\n",
        "\n",
        "# print(string[10]) # Error because outOfIndex\n",
        "\n",
        "print(string[0])\n",
        "print(string[0:4], \"-> 0:4\")\n",
        "print(string[0:5], \"-> 0:5\")\n",
        "print(string[0:10], \"-> 0:10\")\n",
        "print(string[0:5:1], \"-> 0:5:1\")\n",
        "print(string[0:5:2], \"-> 0:5:2\")\n",
        "print(string[0:5:3], \"-> 0:5:3\")\n",
        "\n",
        "#print(string[0:5:0], \"-> 0:5:1\") # Error because we need to jump atleast 1, by default it's 1\n",
        "\n",
        "print(string[0::1], \"-> 0::1\")\n",
        "print(string[::], \"-> ::\")\n",
        "print(string[::2], \"-> ::2\")\n",
        "print(string[:2:], \"-> :2:\")\n",
        "print(string[:10], \"-> :10\") # In ending index if index goes outOfBound still no error\n",
        "print(string[:10:], \"-> :10:\")\n",
        "print(string[-1], \"-> -1\")\n",
        "print(string[-2], \"-> -2\")\n",
        "print(string[-3], \"-> -3\")\n",
        "print(string[-4], \"-> -4\")\n",
        "print(string[-5], \"-> -5\")\n",
        "print(string[-1:-2], \"-> -1:-2\") # Returning '' becausing -ve indexing is going but jump is +ve .ie [-1:-2: 1]\n",
        "                              #  R  o  h   i   t\n",
        "                              #  1  2  3   4   5\n",
        "                              # -5 -4 -3  -2  -1\n",
        "print(string[-5: -2], \"-> -5:-2\")\n",
        "print(string[::-1], \"-> ::-1\")\n",
        "print(string[::-2], \"-> ::-2\")\n",
        "print(string[:-90000:-1], \"-> :-90000:-1\")"
      ]
    },
    {
      "cell_type": "code",
      "source": [
        "s = \"This is a string\"\n",
        "i = 10\n",
        "\n",
        "print(type(s))\n",
        "print(type(i))\n",
        "print(len(s))\n",
        "\n",
        "\n",
        "str(i)\n",
        "# print(s + i)\n",
        "# print(s + str(i))"
      ],
      "metadata": {
        "colab": {
          "base_uri": "https://localhost:8080/",
          "height": 87
        },
        "id": "8hiMuvTksh2x",
        "outputId": "e15b5e41-4ee0-4b48-d62c-e1137ce2edf8"
      },
      "execution_count": 3,
      "outputs": [
        {
          "output_type": "stream",
          "name": "stdout",
          "text": [
            "<class 'str'>\n",
            "<class 'int'>\n",
            "16\n"
          ]
        },
        {
          "output_type": "execute_result",
          "data": {
            "text/plain": [
              "'10'"
            ],
            "application/vnd.google.colaboratory.intrinsic+json": {
              "type": "string"
            }
          },
          "metadata": {},
          "execution_count": 3
        }
      ]
    }
  ]
}